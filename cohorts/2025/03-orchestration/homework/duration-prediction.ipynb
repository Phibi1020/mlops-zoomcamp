{
 "cells": [
  {
   "cell_type": "code",
   "execution_count": 3,
   "id": "b2bd82d7",
   "metadata": {},
   "outputs": [
    {
     "name": "stdout",
     "output_type": "stream",
     "text": [
      "Python 3.12.1\n"
     ]
    }
   ],
   "source": [
    "!python -V"
   ]
  },
  {
   "cell_type": "code",
   "execution_count": 8,
   "id": "d9019458-d3e5-47db-9184-e60ad37d5209",
   "metadata": {},
   "outputs": [
    {
     "name": "stdout",
     "output_type": "stream",
     "text": [
      "Requirement already satisfied: mlflow in /usr/local/python/3.12.1/lib/python3.12/site-packages (2.22.1)\n",
      "Requirement already satisfied: mlflow-skinny==2.22.1 in /usr/local/python/3.12.1/lib/python3.12/site-packages (from mlflow) (2.22.1)\n",
      "Requirement already satisfied: Flask<4 in /usr/local/python/3.12.1/lib/python3.12/site-packages (from mlflow) (2.2.5)\n",
      "Requirement already satisfied: Jinja2<4,>=2.11 in /usr/local/python/3.12.1/lib/python3.12/site-packages (from mlflow) (3.1.3)\n",
      "Requirement already satisfied: alembic!=1.10.0,<2 in /usr/local/python/3.12.1/lib/python3.12/site-packages (from mlflow) (1.13.1)\n",
      "Requirement already satisfied: docker<8,>=4.0.0 in /usr/local/python/3.12.1/lib/python3.12/site-packages (from mlflow) (7.1.0)\n",
      "Requirement already satisfied: graphene<4 in /usr/local/python/3.12.1/lib/python3.12/site-packages (from mlflow) (3.4.3)\n",
      "Requirement already satisfied: gunicorn<24 in /usr/local/python/3.12.1/lib/python3.12/site-packages (from mlflow) (22.0.0)\n",
      "Requirement already satisfied: markdown<4,>=3.3 in /usr/local/python/3.12.1/lib/python3.12/site-packages (from mlflow) (3.8)\n",
      "Requirement already satisfied: matplotlib<4 in /home/codespace/.local/lib/python3.12/site-packages (from mlflow) (3.10.1)\n",
      "Requirement already satisfied: numpy<3 in /home/codespace/.local/lib/python3.12/site-packages (from mlflow) (2.2.4)\n",
      "Requirement already satisfied: pandas!=2.3.0,<3 in /home/codespace/.local/lib/python3.12/site-packages (from mlflow) (2.2.3)\n",
      "Requirement already satisfied: pyarrow<20,>=4.0.0 in /usr/local/python/3.12.1/lib/python3.12/site-packages (from mlflow) (19.0.1)\n",
      "Requirement already satisfied: scikit-learn<2 in /home/codespace/.local/lib/python3.12/site-packages (from mlflow) (1.6.1)\n",
      "Requirement already satisfied: scipy<2 in /home/codespace/.local/lib/python3.12/site-packages (from mlflow) (1.15.2)\n",
      "Requirement already satisfied: sqlalchemy<3,>=1.4.0 in /usr/local/python/3.12.1/lib/python3.12/site-packages (from mlflow) (1.4.52)\n",
      "Requirement already satisfied: cachetools<6,>=5.0.0 in /usr/local/python/3.12.1/lib/python3.12/site-packages (from mlflow-skinny==2.22.1->mlflow) (5.5.2)\n",
      "Requirement already satisfied: click<9,>=7.0 in /usr/local/python/3.12.1/lib/python3.12/site-packages (from mlflow-skinny==2.22.1->mlflow) (8.1.7)\n",
      "Requirement already satisfied: cloudpickle<4 in /usr/local/python/3.12.1/lib/python3.12/site-packages (from mlflow-skinny==2.22.1->mlflow) (3.1.1)\n",
      "Requirement already satisfied: databricks-sdk<1,>=0.20.0 in /usr/local/python/3.12.1/lib/python3.12/site-packages (from mlflow-skinny==2.22.1->mlflow) (0.56.0)\n",
      "Requirement already satisfied: fastapi<1 in /usr/local/python/3.12.1/lib/python3.12/site-packages (from mlflow-skinny==2.22.1->mlflow) (0.115.12)\n",
      "Requirement already satisfied: gitpython<4,>=3.1.9 in /home/codespace/.local/lib/python3.12/site-packages (from mlflow-skinny==2.22.1->mlflow) (3.1.44)\n",
      "Requirement already satisfied: importlib_metadata!=4.7.0,<9,>=3.7.0 in /usr/local/python/3.12.1/lib/python3.12/site-packages (from mlflow-skinny==2.22.1->mlflow) (6.11.0)\n",
      "Requirement already satisfied: opentelemetry-api<3,>=1.9.0 in /usr/local/python/3.12.1/lib/python3.12/site-packages (from mlflow-skinny==2.22.1->mlflow) (1.24.0)\n",
      "Requirement already satisfied: opentelemetry-sdk<3,>=1.9.0 in /usr/local/python/3.12.1/lib/python3.12/site-packages (from mlflow-skinny==2.22.1->mlflow) (1.24.0)\n",
      "Requirement already satisfied: packaging<25 in /usr/local/python/3.12.1/lib/python3.12/site-packages (from mlflow-skinny==2.22.1->mlflow) (24.0)\n",
      "Requirement already satisfied: protobuf<7,>=3.12.0 in /usr/local/python/3.12.1/lib/python3.12/site-packages (from mlflow-skinny==2.22.1->mlflow) (4.25.3)\n",
      "Requirement already satisfied: pydantic<3,>=1.10.8 in /usr/local/python/3.12.1/lib/python3.12/site-packages (from mlflow-skinny==2.22.1->mlflow) (2.11.5)\n",
      "Requirement already satisfied: pyyaml<7,>=5.1 in /usr/local/python/3.12.1/lib/python3.12/site-packages (from mlflow-skinny==2.22.1->mlflow) (6.0.1)\n",
      "Requirement already satisfied: requests<3,>=2.17.3 in /usr/local/python/3.12.1/lib/python3.12/site-packages (from mlflow-skinny==2.22.1->mlflow) (2.31.0)\n",
      "Requirement already satisfied: sqlparse<1,>=0.4.0 in /usr/local/python/3.12.1/lib/python3.12/site-packages (from mlflow-skinny==2.22.1->mlflow) (0.5.0)\n",
      "Requirement already satisfied: typing-extensions<5,>=4.0.0 in /usr/local/python/3.12.1/lib/python3.12/site-packages (from mlflow-skinny==2.22.1->mlflow) (4.14.0)\n",
      "Requirement already satisfied: uvicorn<1 in /usr/local/python/3.12.1/lib/python3.12/site-packages (from mlflow-skinny==2.22.1->mlflow) (0.34.3)\n",
      "Requirement already satisfied: Mako in /usr/local/python/3.12.1/lib/python3.12/site-packages (from alembic!=1.10.0,<2->mlflow) (1.3.3)\n",
      "Requirement already satisfied: google-auth~=2.0 in /usr/local/python/3.12.1/lib/python3.12/site-packages (from databricks-sdk<1,>=0.20.0->mlflow-skinny==2.22.1->mlflow) (2.40.3)\n",
      "Requirement already satisfied: urllib3>=1.26.0 in /usr/local/python/3.12.1/lib/python3.12/site-packages (from docker<8,>=4.0.0->mlflow) (2.2.1)\n",
      "Requirement already satisfied: starlette<0.47.0,>=0.40.0 in /usr/local/python/3.12.1/lib/python3.12/site-packages (from fastapi<1->mlflow-skinny==2.22.1->mlflow) (0.46.2)\n",
      "Requirement already satisfied: Werkzeug>=2.2.2 in /usr/local/python/3.12.1/lib/python3.12/site-packages (from Flask<4->mlflow) (2.2.3)\n",
      "Requirement already satisfied: itsdangerous>=2.0 in /usr/local/python/3.12.1/lib/python3.12/site-packages (from Flask<4->mlflow) (2.2.0)\n",
      "Requirement already satisfied: gitdb<5,>=4.0.1 in /home/codespace/.local/lib/python3.12/site-packages (from gitpython<4,>=3.1.9->mlflow-skinny==2.22.1->mlflow) (4.0.12)\n",
      "Requirement already satisfied: smmap<6,>=3.0.1 in /home/codespace/.local/lib/python3.12/site-packages (from gitdb<5,>=4.0.1->gitpython<4,>=3.1.9->mlflow-skinny==2.22.1->mlflow) (5.0.2)\n",
      "Requirement already satisfied: pyasn1-modules>=0.2.1 in /usr/local/python/3.12.1/lib/python3.12/site-packages (from google-auth~=2.0->databricks-sdk<1,>=0.20.0->mlflow-skinny==2.22.1->mlflow) (0.4.2)\n",
      "Requirement already satisfied: rsa<5,>=3.1.4 in /usr/local/python/3.12.1/lib/python3.12/site-packages (from google-auth~=2.0->databricks-sdk<1,>=0.20.0->mlflow-skinny==2.22.1->mlflow) (4.9.1)\n",
      "Requirement already satisfied: graphql-core<3.3,>=3.1 in /usr/local/python/3.12.1/lib/python3.12/site-packages (from graphene<4->mlflow) (3.2.6)\n",
      "Requirement already satisfied: graphql-relay<3.3,>=3.1 in /usr/local/python/3.12.1/lib/python3.12/site-packages (from graphene<4->mlflow) (3.2.0)\n",
      "Requirement already satisfied: python-dateutil<3,>=2.7.0 in /home/codespace/.local/lib/python3.12/site-packages (from graphene<4->mlflow) (2.9.0.post0)\n",
      "Requirement already satisfied: zipp>=0.5 in /usr/local/python/3.12.1/lib/python3.12/site-packages (from importlib_metadata!=4.7.0,<9,>=3.7.0->mlflow-skinny==2.22.1->mlflow) (3.18.1)\n",
      "Requirement already satisfied: MarkupSafe>=2.0 in /usr/local/python/3.12.1/lib/python3.12/site-packages (from Jinja2<4,>=2.11->mlflow) (2.1.5)\n",
      "Requirement already satisfied: contourpy>=1.0.1 in /home/codespace/.local/lib/python3.12/site-packages (from matplotlib<4->mlflow) (1.3.1)\n",
      "Requirement already satisfied: cycler>=0.10 in /home/codespace/.local/lib/python3.12/site-packages (from matplotlib<4->mlflow) (0.12.1)\n",
      "Requirement already satisfied: fonttools>=4.22.0 in /home/codespace/.local/lib/python3.12/site-packages (from matplotlib<4->mlflow) (4.56.0)\n",
      "Requirement already satisfied: kiwisolver>=1.3.1 in /home/codespace/.local/lib/python3.12/site-packages (from matplotlib<4->mlflow) (1.4.8)\n",
      "Requirement already satisfied: pillow>=8 in /home/codespace/.local/lib/python3.12/site-packages (from matplotlib<4->mlflow) (11.1.0)\n",
      "Requirement already satisfied: pyparsing>=2.3.1 in /home/codespace/.local/lib/python3.12/site-packages (from matplotlib<4->mlflow) (3.2.1)\n",
      "Requirement already satisfied: deprecated>=1.2.6 in /usr/local/python/3.12.1/lib/python3.12/site-packages (from opentelemetry-api<3,>=1.9.0->mlflow-skinny==2.22.1->mlflow) (1.2.14)\n",
      "Requirement already satisfied: opentelemetry-semantic-conventions==0.45b0 in /usr/local/python/3.12.1/lib/python3.12/site-packages (from opentelemetry-sdk<3,>=1.9.0->mlflow-skinny==2.22.1->mlflow) (0.45b0)\n",
      "Requirement already satisfied: pytz>=2020.1 in /usr/local/python/3.12.1/lib/python3.12/site-packages (from pandas!=2.3.0,<3->mlflow) (2024.1)\n",
      "Requirement already satisfied: tzdata>=2022.7 in /usr/local/python/3.12.1/lib/python3.12/site-packages (from pandas!=2.3.0,<3->mlflow) (2024.1)\n",
      "Requirement already satisfied: annotated-types>=0.6.0 in /usr/local/python/3.12.1/lib/python3.12/site-packages (from pydantic<3,>=1.10.8->mlflow-skinny==2.22.1->mlflow) (0.7.0)\n",
      "Requirement already satisfied: pydantic-core==2.33.2 in /usr/local/python/3.12.1/lib/python3.12/site-packages (from pydantic<3,>=1.10.8->mlflow-skinny==2.22.1->mlflow) (2.33.2)\n",
      "Requirement already satisfied: typing-inspection>=0.4.0 in /usr/local/python/3.12.1/lib/python3.12/site-packages (from pydantic<3,>=1.10.8->mlflow-skinny==2.22.1->mlflow) (0.4.1)\n",
      "Requirement already satisfied: six>=1.5 in /usr/local/python/3.12.1/lib/python3.12/site-packages (from python-dateutil<3,>=2.7.0->graphene<4->mlflow) (1.16.0)\n",
      "Requirement already satisfied: charset-normalizer<4,>=2 in /usr/local/python/3.12.1/lib/python3.12/site-packages (from requests<3,>=2.17.3->mlflow-skinny==2.22.1->mlflow) (3.3.2)\n",
      "Requirement already satisfied: idna<4,>=2.5 in /usr/local/python/3.12.1/lib/python3.12/site-packages (from requests<3,>=2.17.3->mlflow-skinny==2.22.1->mlflow) (3.7)\n",
      "Requirement already satisfied: certifi>=2017.4.17 in /usr/local/python/3.12.1/lib/python3.12/site-packages (from requests<3,>=2.17.3->mlflow-skinny==2.22.1->mlflow) (2024.2.2)\n",
      "Requirement already satisfied: pyasn1>=0.1.3 in /usr/local/python/3.12.1/lib/python3.12/site-packages (from rsa<5,>=3.1.4->google-auth~=2.0->databricks-sdk<1,>=0.20.0->mlflow-skinny==2.22.1->mlflow) (0.6.1)\n",
      "Requirement already satisfied: joblib>=1.2.0 in /home/codespace/.local/lib/python3.12/site-packages (from scikit-learn<2->mlflow) (1.4.2)\n",
      "Requirement already satisfied: threadpoolctl>=3.1.0 in /home/codespace/.local/lib/python3.12/site-packages (from scikit-learn<2->mlflow) (3.6.0)\n",
      "Requirement already satisfied: greenlet!=0.4.17 in /usr/local/python/3.12.1/lib/python3.12/site-packages (from sqlalchemy<3,>=1.4.0->mlflow) (3.0.3)\n",
      "Requirement already satisfied: anyio<5,>=3.6.2 in /usr/local/python/3.12.1/lib/python3.12/site-packages (from starlette<0.47.0,>=0.40.0->fastapi<1->mlflow-skinny==2.22.1->mlflow) (4.3.0)\n",
      "Requirement already satisfied: sniffio>=1.1 in /home/codespace/.local/lib/python3.12/site-packages (from anyio<5,>=3.6.2->starlette<0.47.0,>=0.40.0->fastapi<1->mlflow-skinny==2.22.1->mlflow) (1.3.1)\n",
      "Requirement already satisfied: h11>=0.8 in /home/codespace/.local/lib/python3.12/site-packages (from uvicorn<1->mlflow-skinny==2.22.1->mlflow) (0.14.0)\n",
      "Requirement already satisfied: wrapt<2,>=1.10 in /usr/local/python/3.12.1/lib/python3.12/site-packages (from deprecated>=1.2.6->opentelemetry-api<3,>=1.9.0->mlflow-skinny==2.22.1->mlflow) (1.16.0)\n"
     ]
    }
   ],
   "source": [
    "!pip install mlflow"
   ]
  },
  {
   "cell_type": "code",
   "execution_count": 1,
   "id": "41062d8a",
   "metadata": {},
   "outputs": [],
   "source": [
    "import pandas as pd"
   ]
  },
  {
   "cell_type": "code",
   "execution_count": 2,
   "id": "c984c564",
   "metadata": {},
   "outputs": [],
   "source": [
    "import pickle"
   ]
  },
  {
   "cell_type": "code",
   "execution_count": 3,
   "id": "4add538c",
   "metadata": {},
   "outputs": [],
   "source": [
    "import seaborn as sns\n",
    "import matplotlib.pyplot as plt"
   ]
  },
  {
   "cell_type": "code",
   "execution_count": 4,
   "id": "8b135c2b",
   "metadata": {},
   "outputs": [],
   "source": [
    "from sklearn.feature_extraction import DictVectorizer\n",
    "from sklearn.linear_model import LinearRegression\n",
    "from sklearn.metrics import root_mean_squared_error"
   ]
  },
  {
   "cell_type": "code",
   "execution_count": 5,
   "id": "1464985f",
   "metadata": {},
   "outputs": [
    {
     "data": {
      "text/plain": [
       "<Experiment: artifact_location='mlflow-artifacts:/930827882230850165', creation_time=1749293889573, experiment_id='930827882230850165', last_update_time=1749293889573, lifecycle_stage='active', name='orchestration-hw', tags={}>"
      ]
     },
     "execution_count": 5,
     "metadata": {},
     "output_type": "execute_result"
    }
   ],
   "source": [
    "import mlflow\n",
    "\n",
    "\n",
    "mlflow.set_tracking_uri(\"http://localhost:8080\")\n",
    "mlflow.set_experiment(\"orchestration-hw\")"
   ]
  },
  {
   "cell_type": "code",
   "execution_count": 9,
   "id": "f9e6479e",
   "metadata": {},
   "outputs": [],
   "source": [
    "def read_dataframe():\n",
    "    df = pd.read_parquet(\"./yellow_tripdata_2023-03.parquet\")\n",
    "    print(df.shape)\n",
    "\n",
    "    df['duration'] = df.tpep_dropoff_datetime - df.tpep_pickup_datetime\n",
    "    df.duration = df.duration.apply(lambda td: td.total_seconds() / 60)\n",
    "\n",
    "    df = df[(df.duration >= 1) & (df.duration <= 60)]\n",
    "\n",
    "    categorical = ['PULocationID', 'DOLocationID']\n",
    "    numerical = ['trip_distance']\n",
    "    \n",
    "    df[categorical] = df[categorical].astype(str)\n",
    "\n",
    "    dicts = df[categorical + numerical].to_dict(orient='records')\n",
    "    dv = DictVectorizer()\n",
    "    X_train = dv.fit_transform(dicts)\n",
    "\n",
    "    return df, X_train, dv\n",
    "\n",
    "def train_model(X_train, y_train):\n",
    "\n",
    "    print(\"train model\")\n",
    "    lr = LinearRegression()\n",
    "    lr.fit(X_train, y_train)\n",
    "    print(\"Intercept:\", lr.intercept_)\n",
    "\n",
    "    return lr\n",
    "\n",
    "def run():\n",
    "    df, X_train, dv = read_dataframe()\n",
    "    print(df.shape)\n",
    "    \n",
    "    target = 'duration'\n",
    "    y_train = df[target].values\n",
    "\n",
    "    return X_train, y_train\n",
    "\n",
    "    # train_model(X_train, y_train)\n",
    "    # print(f\"MLflow run_id: {run_id}\")\n",
    "    # return run_id"
   ]
  },
  {
   "cell_type": "code",
   "execution_count": 7,
   "id": "c5cbfc25",
   "metadata": {},
   "outputs": [
    {
     "name": "stdout",
     "output_type": "stream",
     "text": [
      "(3403766, 19)\n",
      "(3316216, 20)\n"
     ]
    }
   ],
   "source": [
    "X_train, y_train = run()"
   ]
  },
  {
   "cell_type": "code",
   "execution_count": 10,
   "id": "7599e956-5771-4b73-856c-ca0477179f75",
   "metadata": {},
   "outputs": [
    {
     "name": "stdout",
     "output_type": "stream",
     "text": [
      "train model\n",
      "Intercept: 23.847794585831632\n"
     ]
    }
   ],
   "source": [
    "lr = train_model(X_train, y_train)"
   ]
  },
  {
   "cell_type": "code",
   "execution_count": 11,
   "id": "1e9fb68b",
   "metadata": {},
   "outputs": [
    {
     "name": "stderr",
     "output_type": "stream",
     "text": [
      "\u001b[31m2025/06/07 12:17:25 WARNING mlflow.models.model: Model logged without a signature and input example. Please set `input_example` parameter when logging the model to auto infer the model signature.\u001b[0m\n",
      "Successfully registered model 'linear-regression-model'.\n",
      "2025/06/07 12:17:25 INFO mlflow.store.model_registry.abstract_store: Waiting up to 300 seconds for model version to finish creation. Model name: linear-regression-model, version 1\n"
     ]
    },
    {
     "name": "stdout",
     "output_type": "stream",
     "text": [
      "🏃 View run amazing-mouse-949 at: http://localhost:8080/#/experiments/930827882230850165/runs/e56f258e4e6d477fb2ca6125dd79fe1e\n",
      "🧪 View experiment at: http://localhost:8080/#/experiments/930827882230850165\n"
     ]
    },
    {
     "name": "stderr",
     "output_type": "stream",
     "text": [
      "Created version '1' of model 'linear-regression-model'.\n"
     ]
    }
   ],
   "source": [
    "with mlflow.start_run() as run:\n",
    "    # Log parameters and metrics\n",
    "    mlflow.log_param(\"fit_intercept\", lr.fit_intercept)\n",
    "    mlflow.log_metric(\"intercept\", lr.intercept_)\n",
    "\n",
    "    # Log and register the model\n",
    "    mlflow.sklearn.log_model(\n",
    "        sk_model=lr,\n",
    "        artifact_path=\"model\",\n",
    "        registered_model_name=\"linear-regression-model\"  # this registers it\n",
    "    )\n"
   ]
  },
  {
   "cell_type": "code",
   "execution_count": null,
   "id": "6f0813c7",
   "metadata": {},
   "outputs": [],
   "source": []
  },
  {
   "cell_type": "code",
   "execution_count": null,
   "id": "4c489ec5",
   "metadata": {},
   "outputs": [],
   "source": []
  }
 ],
 "metadata": {
  "interpreter": {
   "hash": "0848c9d6c7d415ad6c477ff7ff8e98694d1a4aa96d0deee89244642e6b630036"
  },
  "kernelspec": {
   "display_name": "Python 3 (ipykernel)",
   "language": "python",
   "name": "python3"
  },
  "language_info": {
   "codemirror_mode": {
    "name": "ipython",
    "version": 3
   },
   "file_extension": ".py",
   "mimetype": "text/x-python",
   "name": "python",
   "nbconvert_exporter": "python",
   "pygments_lexer": "ipython3",
   "version": "3.9.21"
  }
 },
 "nbformat": 4,
 "nbformat_minor": 5
}
