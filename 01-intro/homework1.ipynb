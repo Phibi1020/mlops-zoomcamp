{
 "cells": [
  {
   "cell_type": "code",
   "execution_count": 2,
   "id": "f903f4a3-69b6-47d5-8950-439e5e5f91a5",
   "metadata": {},
   "outputs": [],
   "source": [
    "import pandas as pd"
   ]
  },
  {
   "cell_type": "code",
   "execution_count": 3,
   "id": "415c43ea-a7cc-44ba-9212-fb455c369f76",
   "metadata": {},
   "outputs": [],
   "source": [
    "import seaborn as sns\n",
    "import matplotlib.pyplot as plt"
   ]
  },
  {
   "cell_type": "code",
   "execution_count": 3,
   "id": "336a0226-489a-457b-bb3a-4c33b4f433d1",
   "metadata": {},
   "outputs": [
    {
     "data": {
      "text/plain": [
       "'2.2.3'"
      ]
     },
     "execution_count": 3,
     "metadata": {},
     "output_type": "execute_result"
    }
   ],
   "source": [
    "pd.__version__"
   ]
  },
  {
   "cell_type": "code",
   "execution_count": 4,
   "id": "b94f6be4-0b85-4c55-ae46-6707235501e6",
   "metadata": {},
   "outputs": [
    {
     "name": "stdout",
     "output_type": "stream",
     "text": [
      "19\n"
     ]
    }
   ],
   "source": [
    "\n",
    "df = pd.read_parquet('./yellow_tripdata_2023-01.parquet')\n",
    "print(df.shape[1])"
   ]
  },
  {
   "cell_type": "code",
   "execution_count": 17,
   "id": "dd035d35-646d-4fb8-b858-1915c00d8b55",
   "metadata": {},
   "outputs": [
    {
     "name": "stdout",
     "output_type": "stream",
     "text": [
      "Requirement already satisfied: pyarrow in /opt/conda/lib/python3.12/site-packages (20.0.0)\n",
      "\n",
      "\u001b[1m[\u001b[0m\u001b[34;49mnotice\u001b[0m\u001b[1;39;49m]\u001b[0m\u001b[39;49m A new release of pip is available: \u001b[0m\u001b[31;49m25.0.1\u001b[0m\u001b[39;49m -> \u001b[0m\u001b[32;49m25.1.1\u001b[0m\n",
      "\u001b[1m[\u001b[0m\u001b[34;49mnotice\u001b[0m\u001b[1;39;49m]\u001b[0m\u001b[39;49m To update, run: \u001b[0m\u001b[32;49mpip install --upgrade pip\u001b[0m\n"
     ]
    }
   ],
   "source": [
    "!pip install pyarrow"
   ]
  },
  {
   "cell_type": "code",
   "execution_count": 9,
   "id": "4e7ac364-e8a9-4fe7-a1ae-ac037247135d",
   "metadata": {},
   "outputs": [
    {
     "data": {
      "text/html": [
       "<div>\n",
       "<style scoped>\n",
       "    .dataframe tbody tr th:only-of-type {\n",
       "        vertical-align: middle;\n",
       "    }\n",
       "\n",
       "    .dataframe tbody tr th {\n",
       "        vertical-align: top;\n",
       "    }\n",
       "\n",
       "    .dataframe thead th {\n",
       "        text-align: right;\n",
       "    }\n",
       "</style>\n",
       "<table border=\"1\" class=\"dataframe\">\n",
       "  <thead>\n",
       "    <tr style=\"text-align: right;\">\n",
       "      <th></th>\n",
       "      <th>VendorID</th>\n",
       "      <th>tpep_pickup_datetime</th>\n",
       "      <th>tpep_dropoff_datetime</th>\n",
       "      <th>passenger_count</th>\n",
       "      <th>trip_distance</th>\n",
       "      <th>RatecodeID</th>\n",
       "      <th>store_and_fwd_flag</th>\n",
       "      <th>PULocationID</th>\n",
       "      <th>DOLocationID</th>\n",
       "      <th>payment_type</th>\n",
       "      <th>fare_amount</th>\n",
       "      <th>extra</th>\n",
       "      <th>mta_tax</th>\n",
       "      <th>tip_amount</th>\n",
       "      <th>tolls_amount</th>\n",
       "      <th>improvement_surcharge</th>\n",
       "      <th>total_amount</th>\n",
       "      <th>congestion_surcharge</th>\n",
       "      <th>Airport_fee</th>\n",
       "      <th>cbd_congestion_fee</th>\n",
       "    </tr>\n",
       "  </thead>\n",
       "  <tbody>\n",
       "    <tr>\n",
       "      <th>0</th>\n",
       "      <td>2</td>\n",
       "      <td>2025-02-01 00:12:18</td>\n",
       "      <td>2025-02-01 00:32:33</td>\n",
       "      <td>3.0</td>\n",
       "      <td>3.12</td>\n",
       "      <td>1.0</td>\n",
       "      <td>N</td>\n",
       "      <td>246</td>\n",
       "      <td>79</td>\n",
       "      <td>1</td>\n",
       "      <td>19.8</td>\n",
       "      <td>1.00</td>\n",
       "      <td>0.5</td>\n",
       "      <td>5.11</td>\n",
       "      <td>0.0</td>\n",
       "      <td>1.0</td>\n",
       "      <td>30.66</td>\n",
       "      <td>2.5</td>\n",
       "      <td>0.0</td>\n",
       "      <td>0.75</td>\n",
       "    </tr>\n",
       "    <tr>\n",
       "      <th>1</th>\n",
       "      <td>2</td>\n",
       "      <td>2025-02-01 00:40:04</td>\n",
       "      <td>2025-02-01 00:49:15</td>\n",
       "      <td>1.0</td>\n",
       "      <td>1.40</td>\n",
       "      <td>1.0</td>\n",
       "      <td>N</td>\n",
       "      <td>114</td>\n",
       "      <td>79</td>\n",
       "      <td>1</td>\n",
       "      <td>10.0</td>\n",
       "      <td>1.00</td>\n",
       "      <td>0.5</td>\n",
       "      <td>3.15</td>\n",
       "      <td>0.0</td>\n",
       "      <td>1.0</td>\n",
       "      <td>18.90</td>\n",
       "      <td>2.5</td>\n",
       "      <td>0.0</td>\n",
       "      <td>0.75</td>\n",
       "    </tr>\n",
       "    <tr>\n",
       "      <th>2</th>\n",
       "      <td>1</td>\n",
       "      <td>2025-02-01 00:06:09</td>\n",
       "      <td>2025-02-01 00:11:51</td>\n",
       "      <td>0.0</td>\n",
       "      <td>0.40</td>\n",
       "      <td>1.0</td>\n",
       "      <td>N</td>\n",
       "      <td>211</td>\n",
       "      <td>144</td>\n",
       "      <td>1</td>\n",
       "      <td>6.5</td>\n",
       "      <td>4.25</td>\n",
       "      <td>0.5</td>\n",
       "      <td>1.00</td>\n",
       "      <td>0.0</td>\n",
       "      <td>1.0</td>\n",
       "      <td>13.25</td>\n",
       "      <td>2.5</td>\n",
       "      <td>0.0</td>\n",
       "      <td>0.75</td>\n",
       "    </tr>\n",
       "    <tr>\n",
       "      <th>3</th>\n",
       "      <td>1</td>\n",
       "      <td>2025-02-01 00:15:13</td>\n",
       "      <td>2025-02-01 00:20:19</td>\n",
       "      <td>0.0</td>\n",
       "      <td>0.70</td>\n",
       "      <td>1.0</td>\n",
       "      <td>N</td>\n",
       "      <td>113</td>\n",
       "      <td>249</td>\n",
       "      <td>1</td>\n",
       "      <td>7.2</td>\n",
       "      <td>4.25</td>\n",
       "      <td>0.5</td>\n",
       "      <td>2.00</td>\n",
       "      <td>0.0</td>\n",
       "      <td>1.0</td>\n",
       "      <td>14.95</td>\n",
       "      <td>2.5</td>\n",
       "      <td>0.0</td>\n",
       "      <td>0.75</td>\n",
       "    </tr>\n",
       "    <tr>\n",
       "      <th>4</th>\n",
       "      <td>2</td>\n",
       "      <td>2025-02-01 00:02:52</td>\n",
       "      <td>2025-02-01 00:20:25</td>\n",
       "      <td>1.0</td>\n",
       "      <td>4.19</td>\n",
       "      <td>1.0</td>\n",
       "      <td>N</td>\n",
       "      <td>113</td>\n",
       "      <td>263</td>\n",
       "      <td>1</td>\n",
       "      <td>19.8</td>\n",
       "      <td>1.00</td>\n",
       "      <td>0.5</td>\n",
       "      <td>5.11</td>\n",
       "      <td>0.0</td>\n",
       "      <td>1.0</td>\n",
       "      <td>30.66</td>\n",
       "      <td>2.5</td>\n",
       "      <td>0.0</td>\n",
       "      <td>0.75</td>\n",
       "    </tr>\n",
       "  </tbody>\n",
       "</table>\n",
       "</div>"
      ],
      "text/plain": [
       "   VendorID tpep_pickup_datetime tpep_dropoff_datetime  passenger_count  \\\n",
       "0         2  2025-02-01 00:12:18   2025-02-01 00:32:33              3.0   \n",
       "1         2  2025-02-01 00:40:04   2025-02-01 00:49:15              1.0   \n",
       "2         1  2025-02-01 00:06:09   2025-02-01 00:11:51              0.0   \n",
       "3         1  2025-02-01 00:15:13   2025-02-01 00:20:19              0.0   \n",
       "4         2  2025-02-01 00:02:52   2025-02-01 00:20:25              1.0   \n",
       "\n",
       "   trip_distance  RatecodeID store_and_fwd_flag  PULocationID  DOLocationID  \\\n",
       "0           3.12         1.0                  N           246            79   \n",
       "1           1.40         1.0                  N           114            79   \n",
       "2           0.40         1.0                  N           211           144   \n",
       "3           0.70         1.0                  N           113           249   \n",
       "4           4.19         1.0                  N           113           263   \n",
       "\n",
       "   payment_type  fare_amount  extra  mta_tax  tip_amount  tolls_amount  \\\n",
       "0             1         19.8   1.00      0.5        5.11           0.0   \n",
       "1             1         10.0   1.00      0.5        3.15           0.0   \n",
       "2             1          6.5   4.25      0.5        1.00           0.0   \n",
       "3             1          7.2   4.25      0.5        2.00           0.0   \n",
       "4             1         19.8   1.00      0.5        5.11           0.0   \n",
       "\n",
       "   improvement_surcharge  total_amount  congestion_surcharge  Airport_fee  \\\n",
       "0                    1.0         30.66                   2.5          0.0   \n",
       "1                    1.0         18.90                   2.5          0.0   \n",
       "2                    1.0         13.25                   2.5          0.0   \n",
       "3                    1.0         14.95                   2.5          0.0   \n",
       "4                    1.0         30.66                   2.5          0.0   \n",
       "\n",
       "   cbd_congestion_fee  \n",
       "0                0.75  \n",
       "1                0.75  \n",
       "2                0.75  \n",
       "3                0.75  \n",
       "4                0.75  "
      ]
     },
     "execution_count": 9,
     "metadata": {},
     "output_type": "execute_result"
    }
   ],
   "source": [
    "df.head()"
   ]
  },
  {
   "cell_type": "code",
   "execution_count": 4,
   "id": "25f69e8f-2cd1-4d75-8a1a-9bcae184313b",
   "metadata": {},
   "outputs": [],
   "source": [
    "from sklearn.feature_extraction import DictVectorizer\n",
    "from sklearn.linear_model import LinearRegression\n",
    "\n",
    "from sklearn.metrics import root_mean_squared_error"
   ]
  },
  {
   "cell_type": "code",
   "execution_count": 6,
   "id": "9e04e642-8f93-482c-b519-ebefa88a7531",
   "metadata": {},
   "outputs": [
    {
     "name": "stdout",
     "output_type": "stream",
     "text": [
      "42.59435124195458\n"
     ]
    }
   ],
   "source": [
    "df['duration'] = df.tpep_dropoff_datetime - df.tpep_pickup_datetime\n",
    "df.duration = df.duration.apply(lambda td: td.total_seconds() / 60)\n",
    "print(df['duration'].std())"
   ]
  },
  {
   "cell_type": "code",
   "execution_count": 7,
   "id": "c0c670f7-ca4a-4db8-b289-df77d26ec1ae",
   "metadata": {},
   "outputs": [
    {
     "name": "stdout",
     "output_type": "stream",
     "text": [
      "<bound method DataFrame.count of          VendorID tpep_pickup_datetime tpep_dropoff_datetime  passenger_count  \\\n",
      "0               2  2023-01-01 00:32:10   2023-01-01 00:40:36              1.0   \n",
      "1               2  2023-01-01 00:55:08   2023-01-01 01:01:27              1.0   \n",
      "2               2  2023-01-01 00:25:04   2023-01-01 00:37:49              1.0   \n",
      "3               1  2023-01-01 00:03:48   2023-01-01 00:13:25              0.0   \n",
      "4               2  2023-01-01 00:10:29   2023-01-01 00:21:19              1.0   \n",
      "...           ...                  ...                   ...              ...   \n",
      "3066761         2  2023-01-31 23:58:34   2023-02-01 00:12:33              NaN   \n",
      "3066762         2  2023-01-31 23:31:09   2023-01-31 23:50:36              NaN   \n",
      "3066763         2  2023-01-31 23:01:05   2023-01-31 23:25:36              NaN   \n",
      "3066764         2  2023-01-31 23:40:00   2023-01-31 23:53:00              NaN   \n",
      "3066765         2  2023-01-31 23:07:32   2023-01-31 23:21:56              NaN   \n",
      "\n",
      "         trip_distance  RatecodeID store_and_fwd_flag  PULocationID  \\\n",
      "0                 0.97         1.0                  N           161   \n",
      "1                 1.10         1.0                  N            43   \n",
      "2                 2.51         1.0                  N            48   \n",
      "3                 1.90         1.0                  N           138   \n",
      "4                 1.43         1.0                  N           107   \n",
      "...                ...         ...                ...           ...   \n",
      "3066761           3.05         NaN               None           107   \n",
      "3066762           5.80         NaN               None           112   \n",
      "3066763           4.67         NaN               None           114   \n",
      "3066764           3.15         NaN               None           230   \n",
      "3066765           2.85         NaN               None           262   \n",
      "\n",
      "         DOLocationID  payment_type  fare_amount  extra  mta_tax  tip_amount  \\\n",
      "0                 141             2         9.30   1.00      0.5        0.00   \n",
      "1                 237             1         7.90   1.00      0.5        4.00   \n",
      "2                 238             1        14.90   1.00      0.5       15.00   \n",
      "3                   7             1        12.10   7.25      0.5        0.00   \n",
      "4                  79             1        11.40   1.00      0.5        3.28   \n",
      "...               ...           ...          ...    ...      ...         ...   \n",
      "3066761            48             0        15.80   0.00      0.5        3.96   \n",
      "3066762            75             0        22.43   0.00      0.5        2.64   \n",
      "3066763           239             0        17.61   0.00      0.5        5.32   \n",
      "3066764            79             0        18.15   0.00      0.5        4.43   \n",
      "3066765           143             0        15.97   0.00      0.5        2.00   \n",
      "\n",
      "         tolls_amount  improvement_surcharge  total_amount  \\\n",
      "0                 0.0                    1.0         14.30   \n",
      "1                 0.0                    1.0         16.90   \n",
      "2                 0.0                    1.0         34.90   \n",
      "3                 0.0                    1.0         20.85   \n",
      "4                 0.0                    1.0         19.68   \n",
      "...               ...                    ...           ...   \n",
      "3066761           0.0                    1.0         23.76   \n",
      "3066762           0.0                    1.0         29.07   \n",
      "3066763           0.0                    1.0         26.93   \n",
      "3066764           0.0                    1.0         26.58   \n",
      "3066765           0.0                    1.0         21.97   \n",
      "\n",
      "         congestion_surcharge  airport_fee   duration  \n",
      "0                         2.5         0.00   8.433333  \n",
      "1                         2.5         0.00   6.316667  \n",
      "2                         2.5         0.00  12.750000  \n",
      "3                         0.0         1.25   9.616667  \n",
      "4                         2.5         0.00  10.833333  \n",
      "...                       ...          ...        ...  \n",
      "3066761                   NaN          NaN  13.983333  \n",
      "3066762                   NaN          NaN  19.450000  \n",
      "3066763                   NaN          NaN  24.516667  \n",
      "3066764                   NaN          NaN  13.000000  \n",
      "3066765                   NaN          NaN  14.400000  \n",
      "\n",
      "[3066766 rows x 20 columns]>\n",
      "<bound method DataFrame.count of          VendorID tpep_pickup_datetime tpep_dropoff_datetime  passenger_count  \\\n",
      "0               2  2023-01-01 00:32:10   2023-01-01 00:40:36              1.0   \n",
      "1               2  2023-01-01 00:55:08   2023-01-01 01:01:27              1.0   \n",
      "2               2  2023-01-01 00:25:04   2023-01-01 00:37:49              1.0   \n",
      "3               1  2023-01-01 00:03:48   2023-01-01 00:13:25              0.0   \n",
      "4               2  2023-01-01 00:10:29   2023-01-01 00:21:19              1.0   \n",
      "...           ...                  ...                   ...              ...   \n",
      "3066761         2  2023-01-31 23:58:34   2023-02-01 00:12:33              NaN   \n",
      "3066762         2  2023-01-31 23:31:09   2023-01-31 23:50:36              NaN   \n",
      "3066763         2  2023-01-31 23:01:05   2023-01-31 23:25:36              NaN   \n",
      "3066764         2  2023-01-31 23:40:00   2023-01-31 23:53:00              NaN   \n",
      "3066765         2  2023-01-31 23:07:32   2023-01-31 23:21:56              NaN   \n",
      "\n",
      "         trip_distance  RatecodeID store_and_fwd_flag  PULocationID  \\\n",
      "0                 0.97         1.0                  N           161   \n",
      "1                 1.10         1.0                  N            43   \n",
      "2                 2.51         1.0                  N            48   \n",
      "3                 1.90         1.0                  N           138   \n",
      "4                 1.43         1.0                  N           107   \n",
      "...                ...         ...                ...           ...   \n",
      "3066761           3.05         NaN               None           107   \n",
      "3066762           5.80         NaN               None           112   \n",
      "3066763           4.67         NaN               None           114   \n",
      "3066764           3.15         NaN               None           230   \n",
      "3066765           2.85         NaN               None           262   \n",
      "\n",
      "         DOLocationID  payment_type  fare_amount  extra  mta_tax  tip_amount  \\\n",
      "0                 141             2         9.30   1.00      0.5        0.00   \n",
      "1                 237             1         7.90   1.00      0.5        4.00   \n",
      "2                 238             1        14.90   1.00      0.5       15.00   \n",
      "3                   7             1        12.10   7.25      0.5        0.00   \n",
      "4                  79             1        11.40   1.00      0.5        3.28   \n",
      "...               ...           ...          ...    ...      ...         ...   \n",
      "3066761            48             0        15.80   0.00      0.5        3.96   \n",
      "3066762            75             0        22.43   0.00      0.5        2.64   \n",
      "3066763           239             0        17.61   0.00      0.5        5.32   \n",
      "3066764            79             0        18.15   0.00      0.5        4.43   \n",
      "3066765           143             0        15.97   0.00      0.5        2.00   \n",
      "\n",
      "         tolls_amount  improvement_surcharge  total_amount  \\\n",
      "0                 0.0                    1.0         14.30   \n",
      "1                 0.0                    1.0         16.90   \n",
      "2                 0.0                    1.0         34.90   \n",
      "3                 0.0                    1.0         20.85   \n",
      "4                 0.0                    1.0         19.68   \n",
      "...               ...                    ...           ...   \n",
      "3066761           0.0                    1.0         23.76   \n",
      "3066762           0.0                    1.0         29.07   \n",
      "3066763           0.0                    1.0         26.93   \n",
      "3066764           0.0                    1.0         26.58   \n",
      "3066765           0.0                    1.0         21.97   \n",
      "\n",
      "         congestion_surcharge  airport_fee   duration  \n",
      "0                         2.5         0.00   8.433333  \n",
      "1                         2.5         0.00   6.316667  \n",
      "2                         2.5         0.00  12.750000  \n",
      "3                         0.0         1.25   9.616667  \n",
      "4                         2.5         0.00  10.833333  \n",
      "...                       ...          ...        ...  \n",
      "3066761                   NaN          NaN  13.983333  \n",
      "3066762                   NaN          NaN  19.450000  \n",
      "3066763                   NaN          NaN  24.516667  \n",
      "3066764                   NaN          NaN  13.000000  \n",
      "3066765                   NaN          NaN  14.400000  \n",
      "\n",
      "[3009173 rows x 20 columns]>\n"
     ]
    }
   ],
   "source": [
    "print(df.count)\n",
    "df = df[(df.duration >= 1) & (df.duration <= 60)]\n",
    "print(df.count)\n",
    "categorical = ['PULocationID', 'DOLocationID']\n",
    "numerical = ['trip_distance']\n",
    "\n",
    "df[categorical] = df[categorical].astype(str)"
   ]
  },
  {
   "cell_type": "code",
   "execution_count": 8,
   "id": "281c7eab-091e-407b-89d9-3d97402a6405",
   "metadata": {},
   "outputs": [
    {
     "data": {
      "text/plain": [
       "[{'PULocationID': '161', 'DOLocationID': '141', 'trip_distance': 0.97},\n",
       " {'PULocationID': '43', 'DOLocationID': '237', 'trip_distance': 1.1},\n",
       " {'PULocationID': '48', 'DOLocationID': '238', 'trip_distance': 2.51},\n",
       " {'PULocationID': '138', 'DOLocationID': '7', 'trip_distance': 1.9},\n",
       " {'PULocationID': '107', 'DOLocationID': '79', 'trip_distance': 1.43},\n",
       " {'PULocationID': '161', 'DOLocationID': '137', 'trip_distance': 1.84},\n",
       " {'PULocationID': '239', 'DOLocationID': '143', 'trip_distance': 1.66},\n",
       " {'PULocationID': '142', 'DOLocationID': '200', 'trip_distance': 11.7},\n",
       " {'PULocationID': '164', 'DOLocationID': '236', 'trip_distance': 2.95},\n",
       " {'PULocationID': '141', 'DOLocationID': '107', 'trip_distance': 3.01}]"
      ]
     },
     "execution_count": 8,
     "metadata": {},
     "output_type": "execute_result"
    }
   ],
   "source": [
    "df[categorical + numerical].iloc[:10].to_dict(orient='records')"
   ]
  },
  {
   "cell_type": "code",
   "execution_count": 9,
   "id": "b49acccc-9e90-44ec-969b-c012cc101050",
   "metadata": {},
   "outputs": [
    {
     "name": "stdout",
     "output_type": "stream",
     "text": [
      "251.95598137980033\n"
     ]
    }
   ],
   "source": [
    "\n",
    "# Compute standard deviation of trip distance\n",
    "std_distance = df['trip_distance'].std()\n",
    "print(std_distance)"
   ]
  },
  {
   "cell_type": "code",
   "execution_count": 10,
   "id": "c31cecd2-b1a5-444c-a4c9-8b4c774f051c",
   "metadata": {},
   "outputs": [
    {
     "name": "stdout",
     "output_type": "stream",
     "text": [
      "Feature matrix:\n",
      " <Compressed Sparse Row sparse matrix of dtype 'float64'\n",
      "\twith 9027519 stored elements and shape (3009173, 516)>\n",
      "  Coords\tValues\n",
      "  (0, 43)\t1.0\n",
      "  (0, 325)\t1.0\n",
      "  (0, 515)\t0.97\n",
      "  (1, 148)\t1.0\n",
      "  (1, 456)\t1.0\n",
      "  (1, 515)\t1.1\n",
      "  (2, 149)\t1.0\n",
      "  (2, 461)\t1.0\n",
      "  (2, 515)\t2.51\n",
      "  (3, 227)\t1.0\n",
      "  (3, 299)\t1.0\n",
      "  (3, 515)\t1.9\n",
      "  (4, 237)\t1.0\n",
      "  (4, 266)\t1.0\n",
      "  (4, 515)\t1.43\n",
      "  (5, 38)\t1.0\n",
      "  (5, 325)\t1.0\n",
      "  (5, 515)\t1.84\n",
      "  (6, 45)\t1.0\n",
      "  (6, 409)\t1.0\n",
      "  (6, 515)\t1.66\n",
      "  (7, 108)\t1.0\n",
      "  (7, 304)\t1.0\n",
      "  (7, 515)\t11.7\n",
      "  (8, 147)\t1.0\n",
      "  :\t:\n",
      "  (3009164, 515)\t9.44\n",
      "  (3009165, 54)\t1.0\n",
      "  (3009165, 326)\t1.0\n",
      "  (3009165, 515)\t0.0\n",
      "  (3009166, 64)\t1.0\n",
      "  (3009166, 482)\t1.0\n",
      "  (3009166, 515)\t0.0\n",
      "  (3009167, 46)\t1.0\n",
      "  (3009167, 401)\t1.0\n",
      "  (3009167, 515)\t0.82\n",
      "  (3009168, 203)\t1.0\n",
      "  (3009168, 266)\t1.0\n",
      "  (3009168, 515)\t3.05\n",
      "  (3009169, 233)\t1.0\n",
      "  (3009169, 271)\t1.0\n",
      "  (3009169, 515)\t5.8\n",
      "  (3009170, 150)\t1.0\n",
      "  (3009170, 273)\t1.0\n",
      "  (3009170, 515)\t4.67\n",
      "  (3009171, 237)\t1.0\n",
      "  (3009171, 400)\t1.0\n",
      "  (3009171, 515)\t3.15\n",
      "  (3009172, 45)\t1.0\n",
      "  (3009172, 435)\t1.0\n",
      "  (3009172, 515)\t2.85\n"
     ]
    }
   ],
   "source": [
    "train_dicts = df[categorical + numerical].to_dict(orient='records')\n",
    "\n",
    "dv = DictVectorizer()\n",
    "X_train = dv.fit_transform(train_dicts)\n",
    "\n",
    "print(\"Feature matrix:\\n\", X_train)\n"
   ]
  },
  {
   "cell_type": "code",
   "execution_count": 11,
   "id": "26299d8a-1c6f-48a2-8f0e-a30ac7dfe569",
   "metadata": {},
   "outputs": [
    {
     "data": {
      "text/plain": [
       "7.658396898909143"
      ]
     },
     "execution_count": 11,
     "metadata": {},
     "output_type": "execute_result"
    }
   ],
   "source": [
    "target = 'duration'\n",
    "y_train = df[target].values\n",
    "\n",
    "lr = LinearRegression()\n",
    "lr.fit(X_train, y_train)\n",
    "\n",
    "y_pred = lr.predict(X_train)\n",
    "\n",
    "root_mean_squared_error(y_train, y_pred)"
   ]
  },
  {
   "cell_type": "code",
   "execution_count": 5,
   "id": "d826654e-725e-4748-b9a3-2f66bde438b7",
   "metadata": {},
   "outputs": [
    {
     "data": {
      "text/plain": [
       "7.787924973977241"
      ]
     },
     "execution_count": 5,
     "metadata": {},
     "output_type": "execute_result"
    }
   ],
   "source": [
    "df = pd.read_parquet('./yellow_tripdata_2023-02.parquet')\n",
    "df['duration'] = df.tpep_dropoff_datetime - df.tpep_pickup_datetime\n",
    "df.duration = df.duration.apply(lambda td: td.total_seconds() / 60)\n",
    "df = df[(df.duration >= 1) & (df.duration <= 60)]\n",
    "\n",
    "categorical = ['PULocationID', 'DOLocationID']\n",
    "numerical = ['trip_distance']\n",
    "\n",
    "df[categorical] = df[categorical].astype(str)\n",
    "train_dicts = df[categorical + numerical].to_dict(orient='records')\n",
    "\n",
    "dv = DictVectorizer()\n",
    "X_train = dv.fit_transform(train_dicts)\n",
    "target = 'duration'\n",
    "y_train = df[target].values\n",
    "\n",
    "lr = LinearRegression()\n",
    "lr.fit(X_train, y_train)\n",
    "\n",
    "y_pred = lr.predict(X_train)\n",
    "\n",
    "root_mean_squared_error(y_train, y_pred)"
   ]
  },
  {
   "cell_type": "code",
   "execution_count": null,
   "id": "7c179a70-8d1a-468d-b1b9-2e836232ecc9",
   "metadata": {},
   "outputs": [],
   "source": []
  }
 ],
 "metadata": {
  "kernelspec": {
   "display_name": "Python 3 (ipykernel)",
   "language": "python",
   "name": "python3"
  },
  "language_info": {
   "codemirror_mode": {
    "name": "ipython",
    "version": 3
   },
   "file_extension": ".py",
   "mimetype": "text/x-python",
   "name": "python",
   "nbconvert_exporter": "python",
   "pygments_lexer": "ipython3",
   "version": "3.12.3"
  }
 },
 "nbformat": 4,
 "nbformat_minor": 5
}
